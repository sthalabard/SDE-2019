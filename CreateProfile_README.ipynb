{
 "cells": [
  {
   "cell_type": "markdown",
   "metadata": {},
   "source": [
    "## A notebook to create a python profile\n",
    "\n",
    "This loads some desired go-to modules.\n",
    "\n",
    "It may need to be rerun before starting any of the other notebook\n",
    "\n",
    "Info taken from http://people.duke.edu/~ccc14/sta-663-2016/Customizing_Jupyter.html"
   ]
  },
  {
   "cell_type": "code",
   "execution_count": 1,
   "metadata": {
    "ExecuteTime": {
     "end_time": "2019-01-12T18:07:33.777261Z",
     "start_time": "2019-01-12T18:07:33.144916Z"
    }
   },
   "outputs": [],
   "source": [
    "! ipython profile create"
   ]
  },
  {
   "cell_type": "code",
   "execution_count": 2,
   "metadata": {
    "ExecuteTime": {
     "end_time": "2019-01-12T18:07:43.930082Z",
     "start_time": "2019-01-12T18:07:43.926190Z"
    }
   },
   "outputs": [
    {
     "name": "stdout",
     "output_type": "stream",
     "text": [
      "Overwriting /home/sthalabard/.ipython/profile_default/startup/start.ipy\n"
     ]
    }
   ],
   "source": [
    "%%file ~/.ipython/profile_default/startup/start.ipy\n",
    "import numpy as np\n",
    "from math import *\n",
    "import scipy as scp\n",
    "from scipy import fftpack as fft\n",
    "from scipy import io, integrate\n",
    "\n",
    "from matplotlib import pyplot as plt\n",
    "from matplotlib.pyplot import *\n",
    "from matplotlib import animation,cm,rc\n",
    "from mpl_toolkits.mplot3d import Axes3D\n",
    "\n",
    "from time import time as ctime\n",
    "import os,glob,subprocess\n",
    "import warnings; warnings.simplefilter('ignore')\n",
    "\n",
    "\n",
    "##########\n",
    "from IPython.display import display,HTML,Image\n",
    "display(HTML(\"<style>.container { width:99% !important; }</style>\"))\n",
    "\n",
    "##########\n",
    "rc('legend', frameon=False,fancybox=True,shadow=True,fontsize=14,loc='best')\n",
    "rc('lines', linewidth=2)\n",
    "font = {'family':'serif','size':25}\n",
    "rc('font',**font)\n",
    "rc('text', usetex=True)\n",
    "rc('xtick',labelsize='larger')\n",
    "rc('ytick',labelsize='larger')\n",
    "rc('savefig',format='pdf')\n",
    "rcParams.update({'figure.autolayout': True})\n",
    "rc('figure',figsize= [10.0, 10.0])\n",
    "figheight=6\n"
   ]
  }
 ],
 "metadata": {
  "hide_input": false,
  "kernelspec": {
   "display_name": "Python 3",
   "language": "python",
   "name": "python3"
  },
  "language_info": {
   "codemirror_mode": {
    "name": "ipython",
    "version": 3
   },
   "file_extension": ".py",
   "mimetype": "text/x-python",
   "name": "python",
   "nbconvert_exporter": "python",
   "pygments_lexer": "ipython3",
   "version": "3.6.7"
  }
 },
 "nbformat": 4,
 "nbformat_minor": 2
}
